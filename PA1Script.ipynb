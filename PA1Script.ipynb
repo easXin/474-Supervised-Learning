{
 "cells": [
  {
   "cell_type": "code",
   "execution_count": 588,
   "metadata": {},
   "outputs": [],
   "source": [
    "import numpy as np\n",
    "from scipy.optimize import minimize\n",
    "import matplotlib.pyplot as plt\n",
    "import pickle\n",
    "from sklearn.datasets import make_classification"
   ]
  },
  {
   "cell_type": "markdown",
   "metadata": {},
   "source": [
    "## Part 1 - Linear Regression"
   ]
  },
  {
   "cell_type": "markdown",
   "metadata": {},
   "source": [
    "### Problem 1 - Linear Regression with Direct Minimization"
   ]
  },
  {
   "cell_type": "code",
   "execution_count": 589,
   "metadata": {},
   "outputs": [
    {
     "name": "stdout",
     "output_type": "stream",
     "text": [
      "PROBLEM 1\n",
      "----------\n"
     ]
    }
   ],
   "source": [
    "print('PROBLEM 1')\n",
    "print('----------')"
   ]
  },
  {
   "cell_type": "code",
   "execution_count": 590,
   "metadata": {},
   "outputs": [],
   "source": [
    "def learnOLERegression(X,y):\n",
    "    # Inputs:                                                         \n",
    "    # X = N x d \n",
    "    # y = N x 1                                                               \n",
    "    # Output: \n",
    "    # w = d x 1 \n",
    "    \n",
    "    # IMPLEMENT THIS METHOD - REMOVE THE NEXT LINE\n",
    "    #Formula used to get w is w = (X_transpose*X)^-1*X_transpose*y\n",
    "    #where (X_transpose*X) is mat_mul_result and inverse_result is the inverse of mat_mul_result\n",
    "    \n",
    "    #X_transpose = the transpose of X\n",
    "    X_transpose = X.transpose()\n",
    "    \n",
    "    #mat_mul_result = the matrix multiplication between X and X_transpose\n",
    "    mat_mul_result = np.matmul(X_transpose,X)\n",
    "    \n",
    "    #inverse_result = the inverse of mat_mul_result\n",
    "    inverse_result = np.linalg.inv(mat_mul_result)\n",
    "    \n",
    "    #end_result = the matrix multiplication of the inverse result and the transpose of X\n",
    "    end_result = np.matmul(inverse_result,X_transpose);\n",
    "    #w is the vector containing the weights\n",
    "    \n",
    "    w = np.matmul(end_result,y);\n",
    "    return w"
   ]
  },
  {
   "cell_type": "code",
   "execution_count": 591,
   "metadata": {},
   "outputs": [],
   "source": [
    "def testOLERegression(w,Xtest,ytest):\n",
    "    # Inputs:\n",
    "    # w = d x 1\n",
    "    # Xtest = N x d\n",
    "    # ytest = N x 1\n",
    "    # Output:\n",
    "    # rmse = scalar value\n",
    "\n",
    "    # IMPLEMENT THIS METHOD - REMOVE THE NEXT LINE\n",
    "    #print(\"type of Xtest\" + str(type(Xtest)))\n",
    "#     xi = Xtest[0]\n",
    "#     print(xi)\n",
    "#     print(len(xi))\n",
    "\n",
    "    #transpose of w\n",
    "    w_transpose = w.transpose()\n",
    "    \n",
    "    #number of of x's\n",
    "    N = Xtest.shape[0]\n",
    "    \n",
    "    #total of summation\n",
    "    total = 0\n",
    "    \n",
    "    for i in range(N):\n",
    "        #xi is the ith row in Xtest\n",
    "        xi = Xtest[i]\n",
    "        \n",
    "        #yi is the target value for xi\n",
    "        yi = ytest[i]\n",
    "        \n",
    "        #computes the dot product of W_transpose and xi\n",
    "        result_xi_wt =np.matmul(w_transpose,xi)\n",
    "        \n",
    "        #computes the subtraction of yi with result_xi_wt (w^t*xi)\n",
    "        result_yi_wtxi = yi - result_xi_wt\n",
    "        \n",
    "        #squares the inside for the summation square loss formula\n",
    "        result_summation = result_yi_wtxi**2\n",
    "        total = total + result_summation \n",
    "        \n",
    "    #the radican of the RMSE formula    \n",
    "    radicand = total/N    \n",
    "    rmse = radicand**.5\n",
    "    return rmse"
   ]
  },
  {
   "cell_type": "code",
   "execution_count": 592,
   "metadata": {},
   "outputs": [
    {
     "name": "stdout",
     "output_type": "stream",
     "text": [
      "RMSE without intercept on train data - 138.20\n",
      "RMSE with intercept on train data - 46.77\n",
      "RMSE without intercept on test data - 326.76\n",
      "RMSE with intercept on test data - 60.89\n"
     ]
    }
   ],
   "source": [
    "Xtrain,ytrain,Xtest,ytest = pickle.load(open('diabetes.pickle','rb'),encoding='latin1')   \n",
    "# add intercept\n",
    "x1 = np.ones((len(Xtrain),1))\n",
    "x2 = np.ones((len(Xtest),1))\n",
    "\n",
    "Xtrain_i = np.concatenate((np.ones((Xtrain.shape[0],1)), Xtrain), axis=1)\n",
    "Xtest_i = np.concatenate((np.ones((Xtest.shape[0],1)), Xtest), axis=1)\n",
    "\n",
    "w = learnOLERegression(Xtrain,ytrain)\n",
    "w_i = learnOLERegression(Xtrain_i,ytrain)\n",
    "\n",
    "rmse = testOLERegression(w,Xtrain,ytrain)\n",
    "rmse_i = testOLERegression(w_i,Xtrain_i,ytrain)\n",
    "print('RMSE without intercept on train data - %.2f'%rmse)\n",
    "print('RMSE with intercept on train data - %.2f'%rmse_i)\n",
    "\n",
    "rmse = testOLERegression(w,Xtest,ytest)\n",
    "rmse_i = testOLERegression(w_i,Xtest_i,ytest)\n",
    "print('RMSE without intercept on test data - %.2f'%rmse)\n",
    "print('RMSE with intercept on test data - %.2f'%rmse_i)\n"
   ]
  },
  {
   "cell_type": "markdown",
   "metadata": {},
   "source": [
    "### Problem 2 - Linear Regression with Gradient Descent"
   ]
  },
  {
   "cell_type": "code",
   "execution_count": 593,
   "metadata": {},
   "outputs": [
    {
     "name": "stdout",
     "output_type": "stream",
     "text": [
      "PROBLEM 2\n",
      "----------\n"
     ]
    }
   ],
   "source": [
    "print('PROBLEM 2')\n",
    "print('----------')"
   ]
  },
  {
   "cell_type": "code",
   "execution_count": 594,
   "metadata": {},
   "outputs": [],
   "source": [
    "def regressionObjVal(w, X, y):\n",
    "\n",
    "    # compute squared error (scalar) with respect\n",
    "    # to w (vector) for the given data X and y      \n",
    "    #\n",
    "    # Inputs:\n",
    "    # w = d x 1\n",
    "    # X = N x d\n",
    "    # y = N x 1\n",
    "    # Output:\n",
    "    # error = scalar value\n",
    "    \n",
    "    #number of rows in X and y\n",
    "    N = X.shape[0]\n",
    "  \n",
    "    #product of X * w result is (N x 1)\n",
    "    X_w_product = np.matmul(X,w)\n",
    "    \n",
    "    #reshaping from 1D to 2D array\n",
    "    X_w_product = X_w_product.reshape(N,1)\n",
    "    \n",
    "    #result from y-Xw(X_w_product)\n",
    "    subtract_y_Xw = np.subtract(y , X_w_product)\n",
    "    \n",
    "    #subtract_y_Xw_transpose is basically (y-Xw)^t\n",
    "    subtract_y_Xw_transpose = subtract_y_Xw.transpose()\n",
    "    \n",
    "    result = np.matmul(subtract_y_Xw_transpose,subtract_y_Xw)   \n",
    "\n",
    "    # IMPLEMENT THIS METHOD - REMOVE THE NEXT LINE\n",
    "    error = result/2;\n",
    "    return error\n"
   ]
  },
  {
   "cell_type": "code",
   "execution_count": 595,
   "metadata": {},
   "outputs": [],
   "source": [
    "def regressionGradient(w, X, y):\n",
    "\n",
    "    # compute gradient of squared error (scalar) with respect\n",
    "    # to w (vector) for the given data X and y   \n",
    "    \n",
    "    # Inputs:\n",
    "    # w = d x 1\n",
    "    # X = N x d\n",
    "    # y = N x 1\n",
    "    # Output:\n",
    "    # gradient = d length vector (not a d x 1 matrix)\n",
    "    \n",
    "    #number of attributes in X\n",
    "    d = X.shape[1]\n",
    "    \n",
    "    #transpose of x\n",
    "    X_transpose = X.transpose()\n",
    "    \n",
    "    #product of X^t * X \n",
    "    X_transpose_X = np.matmul(X_transpose,X)\n",
    "    \n",
    "    #result of (X^t * X * w) leads to a (d x 1)\n",
    "    first_term_result = np.matmul(X_transpose_X,w)\n",
    "    \n",
    "    #reshaping to a 2d array\n",
    "    first_term_result = first_term_result.reshape(d,1)\n",
    "    \n",
    "    #result of (X^t * y) results to a (d x 1)\n",
    "    second_term_result = np.matmul(X_transpose,y)\n",
    "    \n",
    "    #gradient of J(w) = (X^t * X * w) - (X^t * y)\n",
    "    gradient = np.subtract(first_term_result,second_term_result)\n",
    "\n",
    "    # IMPLEMENT THIS METHOD - REMOVE THE NEXT LINE \n",
    "    \n",
    "    #d length vector\n",
    "    error_grad = gradient.reshape(d,)\n",
    "    return error_grad"
   ]
  },
  {
   "cell_type": "code",
   "execution_count": 596,
   "metadata": {},
   "outputs": [
    {
     "name": "stdout",
     "output_type": "stream",
     "text": [
      "Gradient Descent Linear Regression RMSE on train data - 48.08\n",
      "Gradient Descent Linear Regression RMSE on test data - 54.80\n"
     ]
    }
   ],
   "source": [
    "Xtrain,ytrain,Xtest,ytest = pickle.load(open('diabetes.pickle','rb'),encoding='latin1')   \n",
    "# add intercept\n",
    "Xtrain_i = np.concatenate((np.ones((Xtrain.shape[0],1)), Xtrain), axis=1)\n",
    "Xtest_i = np.concatenate((np.ones((Xtest.shape[0],1)), Xtest), axis=1)\n",
    "args = (Xtrain_i,ytrain)\n",
    "opts = {'maxiter' : 50}    # Preferred value.    \n",
    "w_init = np.zeros((Xtrain_i.shape[1],1))\n",
    "soln = minimize(regressionObjVal, w_init, jac=regressionGradient, args=args,method='CG', options=opts)\n",
    "w = np.transpose(np.array(soln.x))\n",
    "w = w[:,np.newaxis]\n",
    "rmse = testOLERegression(w,Xtrain_i,ytrain)\n",
    "print('Gradient Descent Linear Regression RMSE on train data - %.2f'%rmse)\n",
    "rmse = testOLERegression(w,Xtest_i,ytest)\n",
    "print('Gradient Descent Linear Regression RMSE on test data - %.2f'%rmse)"
   ]
  },
  {
   "cell_type": "markdown",
   "metadata": {},
   "source": [
    "## Part 2 - Linear Classification"
   ]
  },
  {
   "cell_type": "markdown",
   "metadata": {},
   "source": [
    "### Problem 3 - Perceptron using Gradient Descent"
   ]
  },
  {
   "cell_type": "code",
   "execution_count": 597,
   "metadata": {},
   "outputs": [
    {
     "name": "stdout",
     "output_type": "stream",
     "text": [
      "PROBLEM 3\n",
      "----------\n"
     ]
    }
   ],
   "source": [
    "print('PROBLEM 3')\n",
    "print('----------')"
   ]
  },
  {
   "cell_type": "code",
   "execution_count": 598,
   "metadata": {},
   "outputs": [],
   "source": [
    "def predictLinearModel(w,Xtest):\n",
    "    # Inputs:\n",
    "    # w = d x 1\n",
    "    # Xtest = N x d\n",
    "    # Output:\n",
    "    # ypred = N x 1 vector of predictions\n",
    "    ypred = np.zeros([Xtest.shape[0],1])\n",
    "    \n",
    "    #number of attributes in xi\n",
    "    d = w.shape[0]\n",
    "    \n",
    "    #number of inputs X\n",
    "    N = Xtest.shape[0]\n",
    "    \n",
    "    #inserted all 1's into Xtest column 0\n",
    "    #Xtest = np.insert(Xtest, 0, 1, axis =1)\n",
    "    \n",
    "    #transpose of w (1 x d)\n",
    "    w_transpose = w.transpose()\n",
    "    \n",
    "    #empty list of y predictions\n",
    "    #ypred = np.zeros([Xtest.shape[0],1])\n",
    "    \n",
    "    for i in range(N):\n",
    "        \n",
    "        #extract rows from Xtest\n",
    "        xi = Xtest[i]\n",
    "        \n",
    "        #dot product of xi and w\n",
    "        w_transpose_Xi = np.matmul(xi,w)\n",
    "        \n",
    "        if(w_transpose_Xi <= 0):\n",
    "            ypred[i] = -1\n",
    "        else:\n",
    "            ypred[i] = 1\n",
    "        \n",
    "\n",
    "    # IMPLEMENT THIS METHOD - REMOVE THE NEXT LINE\n",
    "    #ypred = np.zeros([Xtest.shape[0],1])\n",
    "    return ypred"
   ]
  },
  {
   "cell_type": "code",
   "execution_count": 599,
   "metadata": {},
   "outputs": [],
   "source": [
    "def evaluateLinearModel(w,Xtest,ytest):\n",
    "    # Inputs:\n",
    "    # w = d x 1\n",
    "    # Xtest = N x d\n",
    "    # ytest = N x 1\n",
    "    # Output:\n",
    "    # acc = scalar values\n",
    "    ypred = predictLinearModel(w,Xtest)\n",
    "    \n",
    "    N = ytest.shape[0]\n",
    "    acc = 0\n",
    "    \n",
    "    for i in range(N):\n",
    "        if(ypred[i] == ytest[i]):\n",
    "            acc = acc +1\n",
    "                \n",
    "    # IMPLEMENT THIS METHOD - REMOVE THE NEXT LINE\n",
    "    return acc"
   ]
  },
  {
   "cell_type": "code",
   "execution_count": 600,
   "metadata": {},
   "outputs": [
    {
     "name": "stdout",
     "output_type": "stream",
     "text": [
      "Perceptron Accuracy on train data - 84.00\n",
      "Perceptron Accuracy on test data - 84.00\n",
      "\n",
      "\n",
      "minimize:\n",
      "Perceptron Accuracy on train data - 46.00\n",
      "Perceptron Accuracy on test data - 55.00\n"
     ]
    }
   ],
   "source": [
    "Xtrain,ytrain, Xtest, ytest = np.load(open('sample.pickle','rb')) \n",
    "# add intercept\n",
    "Xtrain_i = np.concatenate((np.ones((Xtrain.shape[0],1)), Xtrain), axis=1)\n",
    "Xtest_i = np.concatenate((np.ones((Xtest.shape[0],1)), Xtest), axis=1)\n",
    "\n",
    "args = (Xtrain_i,ytrain)\n",
    "opts = {'maxiter' : 50}    # Preferred value.    \n",
    "w_init = np.zeros((Xtrain_i.shape[1],1))\n",
    "soln = minimize(regressionObjVal, w_init, jac=regressionGradient, args=args,method='CG', options=opts)\n",
    "w = np.transpose(np.array(soln.x))\n",
    "w = w[:,np.newaxis]\n",
    "acc = evaluateLinearModel(w,Xtrain_i,ytrain)\n",
    "print('Perceptron Accuracy on train data - %.2f'%acc)\n",
    "acc = evaluateLinearModel(w,Xtest_i,ytest)\n",
    "print('Perceptron Accuracy on test data - %.2f'%acc)\n",
    "\n",
    "print(\"\\n\")\n",
    "print(\"minimize:\")\n",
    "soln = minimize(evaluateLinearModel, w_init, jac=regressionGradient, args=args,method='CG', options=opts)\n",
    "w = np.transpose(np.array(soln.x))\n",
    "w = w[:,np.newaxis]\n",
    "acc = evaluateLinearModel(w,Xtrain_i,ytrain)\n",
    "print('Perceptron Accuracy on train data - %.2f'%acc)\n",
    "acc = evaluateLinearModel(w,Xtest_i,ytest)\n",
    "print('Perceptron Accuracy on test data - %.2f'%acc)"
   ]
  },
  {
   "cell_type": "markdown",
   "metadata": {},
   "source": [
    "### Problem 4 - Logistic Regression Using Newton's Method"
   ]
  },
  {
   "cell_type": "code",
   "execution_count": 601,
   "metadata": {},
   "outputs": [
    {
     "name": "stdout",
     "output_type": "stream",
     "text": [
      "PROBLEM 4\n",
      "----------\n"
     ]
    }
   ],
   "source": [
    "print('PROBLEM 4')\n",
    "print('----------')"
   ]
  },
  {
   "cell_type": "code",
   "execution_count": 602,
   "metadata": {},
   "outputs": [],
   "source": [
    "def logisticObjVal(w, X, y):\n",
    "\n",
    "    # compute log-loss error (scalar) with respect\n",
    "    # to w (vector) for the given data X and y                               \n",
    "    # Inputs:\n",
    "    # w = d x 1\n",
    "    # X = N x d\n",
    "    # y = N x 1\n",
    "    # Output:\n",
    "    # error = scalar\n",
    "    # 1 x d  storage for row element of Xi\n",
    "    transposeW = np.transpose(w) \n",
    "    tempVal = 0\n",
    "    tempY = 0\n",
    "    tempResult = 0\n",
    "    i = 0\n",
    "    while i < y.size:\n",
    "        # extract ith row from Xi and store it in termp storage \n",
    "        extractedData = X[i]\n",
    "        tempRet = np.dot(transposeW,extractedData)\n",
    "        tempVal = (1/(1+np.exp((-1)*(tempRet))))\n",
    "#         tempY = (-1,1)[tempVal<0.5] \n",
    "        if tempVal < 0.5:\n",
    "            tempY = -1\n",
    "        elif tempVal >= 0.5:\n",
    "            tempY = 1\n",
    "        tempResult += np.log(1+np.exp(tempY*tempRet))\n",
    "        i+=1\n",
    "    retVal = tempResult/y.size\n",
    "#     print(retVal)\n",
    "    return retVal\n",
    "      \n",
    "#     error = 0\n",
    "#     return error"
   ]
  },
  {
   "cell_type": "code",
   "execution_count": 603,
   "metadata": {},
   "outputs": [],
   "source": [
    "def logisticGradient(w, X, y):\n",
    "\n",
    "    # compute the gradient of the log-loss error (vector) with respect\n",
    "    # to w (vector) for the given data X and y  \n",
    "    #\n",
    "    # Inputs:\n",
    "    # w = d x 1\n",
    "    # X = N x d\n",
    "    # y = N x 1\n",
    "    # Output:\n",
    "    # error = d length gradient vector (not a d x 1 matrix)\n",
    "\n",
    "#     if len(w.shape) == 1: #if the tuple has 1 element i.e. is 1-d => (3,)\n",
    "#         w = w[:,np.newaxis]#converts the previously 1d array w into a column vector\n",
    "    # IMPLEMENT THIS METHOD - REMOVE THE NEXT LINE\n",
    "#     gradient = np.zeros((w.shape[0],))\n",
    "    gradient =0\n",
    "    for i in range(len(X)):\n",
    "        ywTx = y[i]*(np.dot(w,X[i]))\n",
    "        #         print(ywTx)\n",
    "        e = np.exp(ywTx)\n",
    "        tmp = y[i]/(1+e)\n",
    "        #         print(tmp*X[i])\n",
    "        gradient += tmp*X[i]\n",
    "        \n",
    "#     gradient.reshape(1,3) \n",
    "#     print(\"yeet\")\n",
    "#     print(gradient)\n",
    "    gradient /=0-len(X)\n",
    "    return gradient"
   ]
  },
  {
   "cell_type": "code",
   "execution_count": 604,
   "metadata": {},
   "outputs": [],
   "source": [
    "def logisticHessian(w, X, y):\n",
    "\n",
    "    # compute the Hessian of the log-loss error (matrix) with respect\n",
    "    # to w (vector) for the given data X and y                               \n",
    "    #\n",
    "    # Inputs:\n",
    "    # w = d x 1\n",
    "    # X = N x d\n",
    "    # y = N x 1\n",
    "    # Output:\n",
    "    # Hessian = d x d matrix\n",
    "    \n",
    "    N = X.shape[0]\n",
    "    w_transpose = w.transpose()\n",
    "    retVal =0\n",
    "    for i in range(N):\n",
    "        xi = X[i].reshape(1,3)\n",
    "        yi = y[i]\n",
    "        w = w.reshape(3,1)\n",
    "        exponent = yi * np.matmul(w,xi)\n",
    "        numerator = np.exp(exponent)\n",
    "        denominator = (1 + numerator)**2\n",
    "        \n",
    "        x_transpose_x = np.matmul(xi,xi.transpose())\n",
    "        \n",
    "        result = (numerator/denominator)*x_transpose_x\n",
    "        retVal = retVal + result\n",
    "    print(retVal/N)\n",
    "    return retVal/N\n",
    "#    return hessian"
   ]
  },
  {
   "cell_type": "code",
   "execution_count": 605,
   "metadata": {
    "scrolled": false
   },
   "outputs": [
    {
     "name": "stdout",
     "output_type": "stream",
     "text": [
      "[[2.62742254 2.62742254 2.62742254]\n",
      " [2.62742254 2.62742254 2.62742254]\n",
      " [2.62742254 2.62742254 2.62742254]]\n",
      "Logistic Regression Accuracy on train data - 46.00\n",
      "Logistic Regression Accuracy on test data - 55.00\n",
      "\n",
      "\n",
      "minimize:\n",
      "[[2.62742254 2.62742254 2.62742254]\n",
      " [2.62742254 2.62742254 2.62742254]\n",
      " [2.62742254 2.62742254 2.62742254]]\n",
      "Logistic Regression Accuracy on train data - 46.00\n",
      "Logistic Regression Accuracy on test data - 55.00\n"
     ]
    }
   ],
   "source": [
    "Xtrain,ytrain, Xtest, ytest = np.load(open('sample.pickle','rb')) \n",
    "# add intercept\n",
    "Xtrain_i = np.concatenate((np.ones((Xtrain.shape[0],1)), Xtrain), axis=1)\n",
    "Xtest_i = np.concatenate((np.ones((Xtest.shape[0],1)), Xtest), axis=1)\n",
    "\n",
    "args = (Xtrain_i,ytrain)\n",
    "opts = {'maxiter' : 50}    # Preferred value.    \n",
    "w_init = np.zeros((Xtrain_i.shape[1],1))\n",
    "soln = minimize(logisticObjVal, w_init, jac=logisticGradient, hess=logisticHessian, args=args,method='Newton-CG', options=opts)\n",
    "w = np.transpose(np.array(soln.x))\n",
    "w = np.reshape(w,[len(w),1])\n",
    "acc = evaluateLinearModel(w,Xtrain_i,ytrain)\n",
    "print('Logistic Regression Accuracy on train data - %.2f'%acc)\n",
    "acc = evaluateLinearModel(w,Xtest_i,ytest)\n",
    "print('Logistic Regression Accuracy on test data - %.2f'%acc)\n",
    "\n",
    "print(\"\\n\")\n",
    "print(\"minimize:\")\n",
    "soln = minimize(evaluateLinearModel, w_init, jac=logisticGradient, hess=logisticHessian, args=args,method='Newton-CG', options=opts)\n",
    "w = np.transpose(np.array(soln.x))\n",
    "w = np.reshape(w,[len(w),1])\n",
    "acc = evaluateLinearModel(w,Xtrain_i,ytrain)\n",
    "print('Logistic Regression Accuracy on train data - %.2f'%acc)\n",
    "acc = evaluateLinearModel(w,Xtest_i,ytest)\n",
    "print('Logistic Regression Accuracy on test data - %.2f'%acc)"
   ]
  },
  {
   "cell_type": "markdown",
   "metadata": {},
   "source": [
    "### Problem 5 - Support Vector Machines Using Gradient Descent"
   ]
  },
  {
   "cell_type": "code",
   "execution_count": 606,
   "metadata": {},
   "outputs": [
    {
     "name": "stdout",
     "output_type": "stream",
     "text": [
      "PROBLEM 5\n",
      "----------\n"
     ]
    }
   ],
   "source": [
    "print('PROBLEM 5')\n",
    "print('----------')"
   ]
  },
  {
   "cell_type": "code",
   "execution_count": 607,
   "metadata": {},
   "outputs": [],
   "source": [
    "def trainSGDSVM(X,y,T,eta=0.01):\n",
    "    # learn a linear SVM by implementing the SGD algorithm\n",
    "    #\n",
    "    # Inputs:\n",
    "    # X = N x d\n",
    "    # y = N x 1\n",
    "    # T = number of iterations\n",
    "    # eta(η) = learning rate\n",
    "    # Output:\n",
    "    # weight vector, w = d x 1\n",
    "\n",
    "    # IMPLEMENT THIS METHOD\n",
    "    w = np.zeros([X.shape[1],1])#initialize a weight vector with a bunch of zeros\n",
    "    for t in range(0, T):   \n",
    "        i = np.random.randint(low=0, high =len(X))#random X matrix column index\n",
    "        XRandomRow = X[i]#accesses a random column in X\n",
    "        randomY = y[i]\n",
    "\n",
    "        tmp = randomY*(np.dot(XRandomRow,w))#tmp ends up an ARRAY with 1 element\n",
    "        if(randomY*tmp[0]< 1): \n",
    "            mhmm = randomY*XRandomRow\n",
    "            w += (eta*mhmm.reshape(3,1))#call reshape since randomY*XRandomRow is a 1d array while w is a 2d array\n",
    "    print(w)        \n",
    "    return w"
   ]
  },
  {
   "cell_type": "code",
   "execution_count": 608,
   "metadata": {},
   "outputs": [
    {
     "name": "stdout",
     "output_type": "stream",
     "text": [
      "[[-0.03      ]\n",
      " [-0.04132456]\n",
      " [-0.88950691]]\n",
      "SVM Accuracy on train data - 67.00\n",
      "SVM Accuracy on test data - 81.00\n",
      "\n",
      "\n",
      "Iteration 200:\n",
      "[[ 0.14      ]\n",
      " [ 0.44175187]\n",
      " [-0.47558287]]\n",
      "SVM Accuracy on train data - 76.00\n",
      "SVM Accuracy on test data - 66.00\n"
     ]
    }
   ],
   "source": [
    "Xtrain,ytrain, Xtest, ytest = np.load(open('sample.pickle','rb')) \n",
    "# add intercept\n",
    "Xtrain_i = np.concatenate((np.ones((Xtrain.shape[0],1)), Xtrain), axis=1)\n",
    "Xtest_i = np.concatenate((np.ones((Xtest.shape[0],1)), Xtest), axis=1)\n",
    "\n",
    "args = (Xtrain_i,ytrain)\n",
    "w = trainSGDSVM(Xtrain_i,ytrain,100,0.01)\n",
    "acc = evaluateLinearModel(w,Xtrain_i,ytrain)\n",
    "print('SVM Accuracy on train data - %.2f'%acc)\n",
    "acc = evaluateLinearModel(w,Xtest_i,ytest)\n",
    "print('SVM Accuracy on test data - %.2f'%acc)\n",
    "\n",
    "print(\"\\n\")\n",
    "print(\"Iteration 200:\")\n",
    "args = (Xtrain_i,ytrain)\n",
    "w = trainSGDSVM(Xtrain_i,ytrain,100,0.01)\n",
    "acc = evaluateLinearModel(w,Xtrain_i,ytrain)\n",
    "print('SVM Accuracy on train data - %.2f'%acc)\n",
    "acc = evaluateLinearModel(w,Xtest_i,ytest)\n",
    "print('SVM Accuracy on test data - %.2f'%acc)"
   ]
  },
  {
   "cell_type": "markdown",
   "metadata": {},
   "source": [
    "### Problem 6 - Plotting decision boundaries"
   ]
  },
  {
   "cell_type": "code",
   "execution_count": 609,
   "metadata": {},
   "outputs": [
    {
     "name": "stdout",
     "output_type": "stream",
     "text": [
      "Problem 6\n",
      "---------\n"
     ]
    }
   ],
   "source": [
    "print('Problem 6')\n",
    "print('---------')"
   ]
  },
  {
   "cell_type": "code",
   "execution_count": 610,
   "metadata": {},
   "outputs": [],
   "source": [
    "def plotBoundaries(w,X,y):\n",
    "    # plotting boundaries\n",
    "\n",
    "    mn = np.min(X,axis=0)\n",
    "    mx = np.max(X,axis=0)\n",
    "    x1 = np.linspace(mn[1],mx[1],100)\n",
    "    x2 = np.linspace(mn[2],mx[2],100)\n",
    "    xx1,xx2 = np.meshgrid(x1,x2)\n",
    "    xx = np.zeros((x1.shape[0]*x2.shape[0],2))\n",
    "    xx[:,0] = xx1.ravel()\n",
    "    xx[:,1] = xx2.ravel()\n",
    "    xx_i = np.concatenate((np.ones((xx.shape[0],1)), xx), axis=1)\n",
    "    ypred = predictLinearModel(w,xx_i)\n",
    "    ax.contourf(x1,x2,ypred.reshape((x1.shape[0],x2.shape[0])),alpha=0.3,cmap='cool')\n",
    "    ax.scatter(X[:,1],X[:,2],c=y.flatten())"
   ]
  },
  {
   "cell_type": "code",
   "execution_count": 612,
   "metadata": {},
   "outputs": [
    {
     "name": "stdout",
     "output_type": "stream",
     "text": [
      "[[2.62742254 2.62742254 2.62742254]\n",
      " [2.62742254 2.62742254 2.62742254]\n",
      " [2.62742254 2.62742254 2.62742254]]\n",
      "[[-0.1       ]\n",
      " [-0.03172897]\n",
      " [-1.65835706]]\n"
     ]
    },
    {
     "data": {
      "text/plain": [
       "Text(0.5, 1.0, 'SVM')"
      ]
     },
     "execution_count": 612,
     "metadata": {},
     "output_type": "execute_result"
    },
    {
     "data": {
      "image/png": "[encoded data removed]",
      "text/plain": [
       "<Figure size 1440x432 with 3 Axes>"
      ]
     },
     "metadata": {
      "needs_background": "light"
     },
     "output_type": "display_data"
    }
   ],
   "source": [
    "Xtrain,ytrain, Xtest, ytest = np.load(open('sample.pickle','rb')) \n",
    "# add intercept\n",
    "Xtrain_i = np.concatenate((np.ones((Xtrain.shape[0],1)), Xtrain), axis=1)\n",
    "Xtest_i = np.concatenate((np.ones((Xtest.shape[0],1)), Xtest), axis=1)\n",
    "\n",
    "# Replace next three lines with code for learning w using the three methods\n",
    "args = (Xtrain_i,ytrain)\n",
    "opts = {'maxiter' : 50}    # Preferred value.    \n",
    "w_init = np.zeros((Xtrain_i.shape[1],1))\n",
    "soln = minimize(logisticObjVal, w_init, jac=logisticGradient, hess=logisticHessian, args=args,method='Newton-CG', options=opts)\n",
    "w = np.transpose(np.array(soln.x))\n",
    "w = np.reshape(w,[len(w),1])\n",
    "w_perceptron = learnOLERegression(Xtrain_i,ytrain)\n",
    "w_logistic = w\n",
    "w_svm = trainSGDSVM(Xtrain_i,ytrain,200,0.01)\n",
    "fig = plt.figure(figsize=(20,6))\n",
    "\n",
    "ax = plt.subplot(1,3,1)\n",
    "plotBoundaries(w_perceptron,Xtrain_i,ytrain)\n",
    "ax.set_title('Perceptron')\n",
    "\n",
    "ax = plt.subplot(1,3,2)\n",
    "plotBoundaries(w_logistic,Xtrain_i,ytrain)\n",
    "ax.set_title('Logistic Regression')\n",
    "\n",
    "ax = plt.subplot(1,3,3)\n",
    "plotBoundaries(w_svm,Xtrain_i,ytrain)\n",
    "ax.set_title('SVM')\n"
   ]
  },
  {
   "cell_type": "code",
   "execution_count": null,
   "metadata": {},
   "outputs": [],
   "source": []
  },
  {
   "cell_type": "code",
   "execution_count": null,
   "metadata": {},
   "outputs": [],
   "source": []
  }
 ],
 "metadata": {
  "anaconda-cloud": {},
  "kernelspec": {
   "display_name": "Python 3",
   "language": "python",
   "name": "python3"
  },
  "language_info": {
   "codemirror_mode": {
    "name": "ipython",
    "version": 3
   },
   "file_extension": ".py",
   "mimetype": "text/x-python",
   "name": "python",
   "nbconvert_exporter": "python",
   "pygments_lexer": "ipython3",
   "version": "3.6.4"
  }
 },
 "nbformat": 4,
 "nbformat_minor": 1
}
